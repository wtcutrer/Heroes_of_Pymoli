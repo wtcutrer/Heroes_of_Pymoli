{
 "cells": [
  {
   "cell_type": "markdown",
   "metadata": {},
   "source": [
    "# Trend Analysis\n",
    "* 1. Out of the 576 players, males made up the majority of the total number of players with 84.03% and accounted for over 652 purchases. \n",
    "* 2. For age demographics, the 20-24 age range composed an overwhelming majority with 39.41% with the second largest group being 25-29 with 19.97%.\n",
    "* 3. The age group >10 spent the most on in-game purchases per person with a total of 4.54 dollars per individual. However, due to the very small population of 22 individuals this data is skewed in their favor. The 20-24 age group spent less with an average of 4.29 dollars per person but with the highest total of in game purchases with 321 total purchases. \n",
    "## Recommended Target Demographic: Males between the ages of 20-24 "
   ]
  },
  {
   "cell_type": "markdown",
   "metadata": {},
   "source": [
    "## Player Count"
   ]
  },
  {
   "cell_type": "code",
   "execution_count": 37,
   "metadata": {},
   "outputs": [
    {
     "data": {
      "text/html": [
       "<div>\n",
       "<style scoped>\n",
       "    .dataframe tbody tr th:only-of-type {\n",
       "        vertical-align: middle;\n",
       "    }\n",
       "\n",
       "    .dataframe tbody tr th {\n",
       "        vertical-align: top;\n",
       "    }\n",
       "\n",
       "    .dataframe thead th {\n",
       "        text-align: right;\n",
       "    }\n",
       "</style>\n",
       "<table border=\"1\" class=\"dataframe\">\n",
       "  <thead>\n",
       "    <tr style=\"text-align: right;\">\n",
       "      <th></th>\n",
       "      <th>Purchase ID</th>\n",
       "      <th>SN</th>\n",
       "      <th>Age</th>\n",
       "      <th>Gender</th>\n",
       "      <th>Item ID</th>\n",
       "      <th>Item Name</th>\n",
       "      <th>Price</th>\n",
       "    </tr>\n",
       "  </thead>\n",
       "  <tbody>\n",
       "    <tr>\n",
       "      <th>0</th>\n",
       "      <td>0</td>\n",
       "      <td>Lisim78</td>\n",
       "      <td>20</td>\n",
       "      <td>Male</td>\n",
       "      <td>108</td>\n",
       "      <td>Extraction, Quickblade Of Trembling Hands</td>\n",
       "      <td>3.53</td>\n",
       "    </tr>\n",
       "    <tr>\n",
       "      <th>1</th>\n",
       "      <td>1</td>\n",
       "      <td>Lisovynya38</td>\n",
       "      <td>40</td>\n",
       "      <td>Male</td>\n",
       "      <td>143</td>\n",
       "      <td>Frenzied Scimitar</td>\n",
       "      <td>1.56</td>\n",
       "    </tr>\n",
       "    <tr>\n",
       "      <th>2</th>\n",
       "      <td>2</td>\n",
       "      <td>Ithergue48</td>\n",
       "      <td>24</td>\n",
       "      <td>Male</td>\n",
       "      <td>92</td>\n",
       "      <td>Final Critic</td>\n",
       "      <td>4.88</td>\n",
       "    </tr>\n",
       "    <tr>\n",
       "      <th>3</th>\n",
       "      <td>3</td>\n",
       "      <td>Chamassasya86</td>\n",
       "      <td>24</td>\n",
       "      <td>Male</td>\n",
       "      <td>100</td>\n",
       "      <td>Blindscythe</td>\n",
       "      <td>3.27</td>\n",
       "    </tr>\n",
       "    <tr>\n",
       "      <th>4</th>\n",
       "      <td>4</td>\n",
       "      <td>Iskosia90</td>\n",
       "      <td>23</td>\n",
       "      <td>Male</td>\n",
       "      <td>131</td>\n",
       "      <td>Fury</td>\n",
       "      <td>1.44</td>\n",
       "    </tr>\n",
       "  </tbody>\n",
       "</table>\n",
       "</div>"
      ],
      "text/plain": [
       "   Purchase ID             SN  Age Gender  Item ID  \\\n",
       "0            0        Lisim78   20   Male      108   \n",
       "1            1    Lisovynya38   40   Male      143   \n",
       "2            2     Ithergue48   24   Male       92   \n",
       "3            3  Chamassasya86   24   Male      100   \n",
       "4            4      Iskosia90   23   Male      131   \n",
       "\n",
       "                                   Item Name  Price  \n",
       "0  Extraction, Quickblade Of Trembling Hands   3.53  \n",
       "1                          Frenzied Scimitar   1.56  \n",
       "2                               Final Critic   4.88  \n",
       "3                                Blindscythe   3.27  \n",
       "4                                       Fury   1.44  "
      ]
     },
     "execution_count": 37,
     "metadata": {},
     "output_type": "execute_result"
    }
   ],
   "source": [
    "# Dependencies and Setup\n",
    "import pandas as pd\n",
    "\n",
    "# File to Load (Remember to Change These)\n",
    "file_to_load = \"Resources/purchase_data.csv\"\n",
    "\n",
    "# Read Purchasing File and store into Pandas data frame\n",
    "purchase_data_df  = pd.read_csv(file_to_load)\n",
    "purchase_data_df.head()"
   ]
  },
  {
   "cell_type": "markdown",
   "metadata": {},
   "source": [
    "* Display the total number of players\n"
   ]
  },
  {
   "cell_type": "code",
   "execution_count": 38,
   "metadata": {},
   "outputs": [
    {
     "data": {
      "text/html": [
       "<div>\n",
       "<style scoped>\n",
       "    .dataframe tbody tr th:only-of-type {\n",
       "        vertical-align: middle;\n",
       "    }\n",
       "\n",
       "    .dataframe tbody tr th {\n",
       "        vertical-align: top;\n",
       "    }\n",
       "\n",
       "    .dataframe thead th {\n",
       "        text-align: right;\n",
       "    }\n",
       "</style>\n",
       "<table border=\"1\" class=\"dataframe\">\n",
       "  <thead>\n",
       "    <tr style=\"text-align: right;\">\n",
       "      <th></th>\n",
       "      <th>Total Players</th>\n",
       "    </tr>\n",
       "  </thead>\n",
       "  <tbody>\n",
       "    <tr>\n",
       "      <th>0</th>\n",
       "      <td>576</td>\n",
       "    </tr>\n",
       "  </tbody>\n",
       "</table>\n",
       "</div>"
      ],
      "text/plain": [
       "   Total Players\n",
       "0            576"
      ]
     },
     "execution_count": 38,
     "metadata": {},
     "output_type": "execute_result"
    }
   ],
   "source": [
    "#Calculate Total Players\n",
    "total_players = len(purchase_data_df[\"SN\"].value_counts())\n",
    "\n",
    "#Format into a DataFrame\n",
    "player_count = pd.DataFrame({\"Total Players\":[total_players]})\n",
    "player_count"
   ]
  },
  {
   "cell_type": "markdown",
   "metadata": {},
   "source": [
    "## Purchasing Analysis (Total)"
   ]
  },
  {
   "cell_type": "markdown",
   "metadata": {},
   "source": [
    "* Run basic calculations to obtain number of unique items, average price, etc.\n",
    "\n",
    "\n",
    "* Create a summary data frame to hold the results\n",
    "\n",
    "\n",
    "* Optional: give the displayed data cleaner formatting\n",
    "\n",
    "\n",
    "* Display the summary data frame\n"
   ]
  },
  {
   "cell_type": "code",
   "execution_count": 39,
   "metadata": {
    "scrolled": true
   },
   "outputs": [
    {
     "data": {
      "text/html": [
       "<style  type=\"text/css\" >\n",
       "</style><table id=\"T_6a2d5b0a_ee64_11eb_83e6_94085366260a\" ><thead>    <tr>        <th class=\"blank level0\" ></th>        <th class=\"col_heading level0 col0\" >Number of Unique Items</th>        <th class=\"col_heading level0 col1\" >Average Price</th>        <th class=\"col_heading level0 col2\" >Number of Purchases</th>        <th class=\"col_heading level0 col3\" >Total Revenue</th>    </tr></thead><tbody>\n",
       "                <tr>\n",
       "                        <th id=\"T_6a2d5b0a_ee64_11eb_83e6_94085366260alevel0_row0\" class=\"row_heading level0 row0\" >0</th>\n",
       "                        <td id=\"T_6a2d5b0a_ee64_11eb_83e6_94085366260arow0_col0\" class=\"data row0 col0\" >179</td>\n",
       "                        <td id=\"T_6a2d5b0a_ee64_11eb_83e6_94085366260arow0_col1\" class=\"data row0 col1\" >$3.05</td>\n",
       "                        <td id=\"T_6a2d5b0a_ee64_11eb_83e6_94085366260arow0_col2\" class=\"data row0 col2\" >780</td>\n",
       "                        <td id=\"T_6a2d5b0a_ee64_11eb_83e6_94085366260arow0_col3\" class=\"data row0 col3\" >$2,379.77</td>\n",
       "            </tr>\n",
       "    </tbody></table>"
      ],
      "text/plain": [
       "<pandas.io.formats.style.Styler at 0x24152ffad30>"
      ]
     },
     "execution_count": 39,
     "metadata": {},
     "output_type": "execute_result"
    }
   ],
   "source": [
    "#Starting Calculations\n",
    "unique_items = len(purchase_data_df[\"Item ID\"].value_counts())\n",
    "average_item_price = purchase_data_df[\"Price\"].mean()\n",
    "unique_purchases = len(purchase_data_df[\"Purchase ID\"].value_counts())\n",
    "total_purchase = purchase_data_df[\"Price\"].sum()\n",
    "\n",
    "#Format into a DataFrame\n",
    "summary_df = pd.DataFrame({\n",
    "                            \"Number of Unique Items\": [unique_items], \n",
    "                            \"Average Price\": [average_item_price], \n",
    "                            \"Number of Purchases\": [unique_purchases],\n",
    "                            \"Total Revenue\": [total_purchase]\n",
    "                        })\n",
    "summary_df.head()\n",
    "\n",
    "#Correcting Format\n",
    "summary_df.style.format({'Average Price':\"${:,.2f}\",\n",
    "                         'Total Revenue': '${:,.2f}'})\n"
   ]
  },
  {
   "cell_type": "markdown",
   "metadata": {},
   "source": [
    "## Gender Demographics"
   ]
  },
  {
   "cell_type": "markdown",
   "metadata": {},
   "source": [
    "* Percentage and Count of Male Players\n",
    "\n",
    "\n",
    "* Percentage and Count of Female Players\n",
    "\n",
    "\n",
    "* Percentage and Count of Other / Non-Disclosed\n",
    "\n",
    "\n"
   ]
  },
  {
   "cell_type": "code",
   "execution_count": 40,
   "metadata": {},
   "outputs": [
    {
     "data": {
      "text/html": [
       "<style  type=\"text/css\" >\n",
       "</style><table id=\"T_6adf73b4_ee64_11eb_884c_94085366260a\" ><thead>    <tr>        <th class=\"blank level0\" ></th>        <th class=\"col_heading level0 col0\" >Total Count</th>        <th class=\"col_heading level0 col1\" >Percentage of Players</th>    </tr></thead><tbody>\n",
       "                <tr>\n",
       "                        <th id=\"T_6adf73b4_ee64_11eb_884c_94085366260alevel0_row0\" class=\"row_heading level0 row0\" >Male</th>\n",
       "                        <td id=\"T_6adf73b4_ee64_11eb_884c_94085366260arow0_col0\" class=\"data row0 col0\" >484</td>\n",
       "                        <td id=\"T_6adf73b4_ee64_11eb_884c_94085366260arow0_col1\" class=\"data row0 col1\" >84.03</td>\n",
       "            </tr>\n",
       "            <tr>\n",
       "                        <th id=\"T_6adf73b4_ee64_11eb_884c_94085366260alevel0_row1\" class=\"row_heading level0 row1\" >Female</th>\n",
       "                        <td id=\"T_6adf73b4_ee64_11eb_884c_94085366260arow1_col0\" class=\"data row1 col0\" >81</td>\n",
       "                        <td id=\"T_6adf73b4_ee64_11eb_884c_94085366260arow1_col1\" class=\"data row1 col1\" >14.06</td>\n",
       "            </tr>\n",
       "            <tr>\n",
       "                        <th id=\"T_6adf73b4_ee64_11eb_884c_94085366260alevel0_row2\" class=\"row_heading level0 row2\" >Other / Non-Disclosed</th>\n",
       "                        <td id=\"T_6adf73b4_ee64_11eb_884c_94085366260arow2_col0\" class=\"data row2 col0\" >11</td>\n",
       "                        <td id=\"T_6adf73b4_ee64_11eb_884c_94085366260arow2_col1\" class=\"data row2 col1\" >1.91</td>\n",
       "            </tr>\n",
       "    </tbody></table>"
      ],
      "text/plain": [
       "<pandas.io.formats.style.Styler at 0x24152ffa710>"
      ]
     },
     "execution_count": 40,
     "metadata": {},
     "output_type": "execute_result"
    }
   ],
   "source": [
    "\n",
    "# GroupBy\n",
    "gender_total = purchase_data_df.groupby(\"Gender\")\n",
    "\n",
    "# Count Gender Data Set\n",
    "gender_count = gender_total.nunique()[\"SN\"]\n",
    "gender_percentage = gender_count / total_players * 100\n",
    "\n",
    "#Input into DataFrame\n",
    "gender_demographics = pd.DataFrame({\"Total Count\": gender_count, \"Percentage of Players\": gender_percentage})\n",
    "\n",
    "# Format Header without Index \n",
    "gender_demographics.index.name = None\n",
    "\n",
    "# Correcting Format\n",
    "gender_demographics.sort_values([\"Total Count\"], ascending = False).style.format({\"Percentage of Players\":\"{:.2f}\"})\n",
    "\n"
   ]
  },
  {
   "cell_type": "markdown",
   "metadata": {},
   "source": [
    "\n",
    "## Purchasing Analysis (Gender)"
   ]
  },
  {
   "cell_type": "markdown",
   "metadata": {},
   "source": [
    "* Run basic calculations to obtain purchase count, avg. purchase price, avg. purchase total per person etc. by gender\n",
    "\n",
    "\n",
    "\n",
    "\n",
    "* Create a summary data frame to hold the results\n",
    "\n",
    "\n",
    "* Optional: give the displayed data cleaner formatting\n",
    "\n",
    "\n",
    "* Display the summary data frame"
   ]
  },
  {
   "cell_type": "code",
   "execution_count": 41,
   "metadata": {},
   "outputs": [
    {
     "data": {
      "text/html": [
       "<style  type=\"text/css\" >\n",
       "</style><table id=\"T_6b8ac352_ee64_11eb_9153_94085366260a\" ><thead>    <tr>        <th class=\"blank level0\" ></th>        <th class=\"col_heading level0 col0\" >Purchase Count</th>        <th class=\"col_heading level0 col1\" >Average Purchase Price</th>        <th class=\"col_heading level0 col2\" >Total Purchase Value</th>        <th class=\"col_heading level0 col3\" >Avg Total Purchase per Person</th>    </tr></thead><tbody>\n",
       "                <tr>\n",
       "                        <th id=\"T_6b8ac352_ee64_11eb_9153_94085366260alevel0_row0\" class=\"row_heading level0 row0\" >Female</th>\n",
       "                        <td id=\"T_6b8ac352_ee64_11eb_9153_94085366260arow0_col0\" class=\"data row0 col0\" >113</td>\n",
       "                        <td id=\"T_6b8ac352_ee64_11eb_9153_94085366260arow0_col1\" class=\"data row0 col1\" >$3.20</td>\n",
       "                        <td id=\"T_6b8ac352_ee64_11eb_9153_94085366260arow0_col2\" class=\"data row0 col2\" >$361.94</td>\n",
       "                        <td id=\"T_6b8ac352_ee64_11eb_9153_94085366260arow0_col3\" class=\"data row0 col3\" >$4.47</td>\n",
       "            </tr>\n",
       "            <tr>\n",
       "                        <th id=\"T_6b8ac352_ee64_11eb_9153_94085366260alevel0_row1\" class=\"row_heading level0 row1\" >Male</th>\n",
       "                        <td id=\"T_6b8ac352_ee64_11eb_9153_94085366260arow1_col0\" class=\"data row1 col0\" >652</td>\n",
       "                        <td id=\"T_6b8ac352_ee64_11eb_9153_94085366260arow1_col1\" class=\"data row1 col1\" >$3.02</td>\n",
       "                        <td id=\"T_6b8ac352_ee64_11eb_9153_94085366260arow1_col2\" class=\"data row1 col2\" >$1,967.64</td>\n",
       "                        <td id=\"T_6b8ac352_ee64_11eb_9153_94085366260arow1_col3\" class=\"data row1 col3\" >$4.07</td>\n",
       "            </tr>\n",
       "            <tr>\n",
       "                        <th id=\"T_6b8ac352_ee64_11eb_9153_94085366260alevel0_row2\" class=\"row_heading level0 row2\" >Other / Non-Disclosed</th>\n",
       "                        <td id=\"T_6b8ac352_ee64_11eb_9153_94085366260arow2_col0\" class=\"data row2 col0\" >15</td>\n",
       "                        <td id=\"T_6b8ac352_ee64_11eb_9153_94085366260arow2_col1\" class=\"data row2 col1\" >$3.35</td>\n",
       "                        <td id=\"T_6b8ac352_ee64_11eb_9153_94085366260arow2_col2\" class=\"data row2 col2\" >$50.19</td>\n",
       "                        <td id=\"T_6b8ac352_ee64_11eb_9153_94085366260arow2_col3\" class=\"data row2 col3\" >$4.56</td>\n",
       "            </tr>\n",
       "    </tbody></table>"
      ],
      "text/plain": [
       "<pandas.io.formats.style.Styler at 0x24152ee4048>"
      ]
     },
     "execution_count": 41,
     "metadata": {},
     "output_type": "execute_result"
    }
   ],
   "source": [
    "#Calculations\n",
    "purchase_count = gender_total[\"Purchase ID\"].count()\n",
    "avg_price = gender_total[\"Price\"].mean()\n",
    "avg_total = gender_total[\"Price\"].sum()\n",
    "avg_per_person = avg_total / gender_count\n",
    "\n",
    "#Format into a DataFrame\n",
    "purchasing_analysis = pd.DataFrame({\n",
    "                                    \"Purchase Count\": purchase_count, \n",
    "                                    \"Average Purchase Price\": avg_price, \n",
    "                                    \"Total Purchase Value\": avg_total,\n",
    "                                    \"Avg Total Purchase per Person\": avg_per_person\n",
    "                                    })\n",
    "purchasing_analysis.head()\n",
    "\n",
    "#Setting Format \n",
    "purchasing_analysis.style.format({\"Average Purchase Price\":\"${:,.2f}\",\n",
    "                          \"Total Purchase Value\":\"${:,.2f}\",\n",
    "                          \"Avg Total Purchase per Person\":\"${:,.2f}\"\n",
    "                        })"
   ]
  },
  {
   "cell_type": "markdown",
   "metadata": {},
   "source": [
    "## Age Demographics"
   ]
  },
  {
   "cell_type": "markdown",
   "metadata": {},
   "source": [
    "* Establish bins for ages\n",
    "\n",
    "\n",
    "* Categorize the existing players using the age bins. Hint: use pd.cut()\n",
    "\n",
    "\n",
    "* Calculate the numbers and percentages by age group\n",
    "\n",
    "\n",
    "* Create a summary data frame to hold the results\n",
    "\n",
    "\n",
    "* Optional: round the percentage column to two decimal points\n",
    "\n",
    "\n",
    "* Display Age Demographics Table\n"
   ]
  },
  {
   "cell_type": "code",
   "execution_count": 42,
   "metadata": {},
   "outputs": [
    {
     "data": {
      "text/html": [
       "<style  type=\"text/css\" >\n",
       "</style><table id=\"T_6c3a2252_ee64_11eb_920f_94085366260a\" ><thead>    <tr>        <th class=\"blank level0\" ></th>        <th class=\"col_heading level0 col0\" >Total Count</th>        <th class=\"col_heading level0 col1\" >Percentage of Players</th>    </tr></thead><tbody>\n",
       "                <tr>\n",
       "                        <th id=\"T_6c3a2252_ee64_11eb_920f_94085366260alevel0_row0\" class=\"row_heading level0 row0\" ><10</th>\n",
       "                        <td id=\"T_6c3a2252_ee64_11eb_920f_94085366260arow0_col0\" class=\"data row0 col0\" >17</td>\n",
       "                        <td id=\"T_6c3a2252_ee64_11eb_920f_94085366260arow0_col1\" class=\"data row0 col1\" >2.95</td>\n",
       "            </tr>\n",
       "            <tr>\n",
       "                        <th id=\"T_6c3a2252_ee64_11eb_920f_94085366260alevel0_row1\" class=\"row_heading level0 row1\" >10-14</th>\n",
       "                        <td id=\"T_6c3a2252_ee64_11eb_920f_94085366260arow1_col0\" class=\"data row1 col0\" >20</td>\n",
       "                        <td id=\"T_6c3a2252_ee64_11eb_920f_94085366260arow1_col1\" class=\"data row1 col1\" >3.47</td>\n",
       "            </tr>\n",
       "            <tr>\n",
       "                        <th id=\"T_6c3a2252_ee64_11eb_920f_94085366260alevel0_row2\" class=\"row_heading level0 row2\" >15-19</th>\n",
       "                        <td id=\"T_6c3a2252_ee64_11eb_920f_94085366260arow2_col0\" class=\"data row2 col0\" >92</td>\n",
       "                        <td id=\"T_6c3a2252_ee64_11eb_920f_94085366260arow2_col1\" class=\"data row2 col1\" >15.97</td>\n",
       "            </tr>\n",
       "            <tr>\n",
       "                        <th id=\"T_6c3a2252_ee64_11eb_920f_94085366260alevel0_row3\" class=\"row_heading level0 row3\" >20-24</th>\n",
       "                        <td id=\"T_6c3a2252_ee64_11eb_920f_94085366260arow3_col0\" class=\"data row3 col0\" >227</td>\n",
       "                        <td id=\"T_6c3a2252_ee64_11eb_920f_94085366260arow3_col1\" class=\"data row3 col1\" >39.41</td>\n",
       "            </tr>\n",
       "            <tr>\n",
       "                        <th id=\"T_6c3a2252_ee64_11eb_920f_94085366260alevel0_row4\" class=\"row_heading level0 row4\" >25-29</th>\n",
       "                        <td id=\"T_6c3a2252_ee64_11eb_920f_94085366260arow4_col0\" class=\"data row4 col0\" >115</td>\n",
       "                        <td id=\"T_6c3a2252_ee64_11eb_920f_94085366260arow4_col1\" class=\"data row4 col1\" >19.97</td>\n",
       "            </tr>\n",
       "            <tr>\n",
       "                        <th id=\"T_6c3a2252_ee64_11eb_920f_94085366260alevel0_row5\" class=\"row_heading level0 row5\" >30-34</th>\n",
       "                        <td id=\"T_6c3a2252_ee64_11eb_920f_94085366260arow5_col0\" class=\"data row5 col0\" >55</td>\n",
       "                        <td id=\"T_6c3a2252_ee64_11eb_920f_94085366260arow5_col1\" class=\"data row5 col1\" >9.55</td>\n",
       "            </tr>\n",
       "            <tr>\n",
       "                        <th id=\"T_6c3a2252_ee64_11eb_920f_94085366260alevel0_row6\" class=\"row_heading level0 row6\" >35-39</th>\n",
       "                        <td id=\"T_6c3a2252_ee64_11eb_920f_94085366260arow6_col0\" class=\"data row6 col0\" >38</td>\n",
       "                        <td id=\"T_6c3a2252_ee64_11eb_920f_94085366260arow6_col1\" class=\"data row6 col1\" >6.60</td>\n",
       "            </tr>\n",
       "            <tr>\n",
       "                        <th id=\"T_6c3a2252_ee64_11eb_920f_94085366260alevel0_row7\" class=\"row_heading level0 row7\" >40+</th>\n",
       "                        <td id=\"T_6c3a2252_ee64_11eb_920f_94085366260arow7_col0\" class=\"data row7 col0\" >12</td>\n",
       "                        <td id=\"T_6c3a2252_ee64_11eb_920f_94085366260arow7_col1\" class=\"data row7 col1\" >2.08</td>\n",
       "            </tr>\n",
       "    </tbody></table>"
      ],
      "text/plain": [
       "<pandas.io.formats.style.Styler at 0x24152f5dc18>"
      ]
     },
     "execution_count": 42,
     "metadata": {},
     "output_type": "execute_result"
    }
   ],
   "source": [
    "#Create bins\n",
    "age_bins = [0, 9.9, 13.9, 18.9, 23.9, 28.9, 33.9, 39.9, 100]\n",
    "age_groups = [\"<10\",\"10-14\", \"15-19\",\"20-24\",\n",
    "            \"25-29\",\"30-34\",\"35-39\",\"40+\"]\n",
    "\n",
    "#Defining GroupBy\n",
    "purchase_data_df[\"Age Groups\"] = pd.cut(purchase_data_df[\"Age\"], age_bins, labels=age_groups, include_lowest=True)\n",
    "purchase_data_df\n",
    "age_group_df = purchase_data_df.groupby(\"Age Groups\")\n",
    "\n",
    "#Calculations\n",
    "total_count_age = age_group_df[\"SN\"].nunique()\n",
    "percentage_by_age = (total_count_age/total_players) * 100\n",
    "\n",
    "#Formating into DataFrame\n",
    "age_demographics = pd.DataFrame({\"Total Count\": total_count_age,\n",
    "                                 \"Percentage of Players\": percentage_by_age\n",
    "                                })\n",
    "\n",
    "#Cleaning Header \n",
    "age_demographics.index.name = None\n",
    "\n",
    "#Formatting for two decimal places\n",
    "age_demographics.style.format({\"Percentage of Players\":\"{:,.2f}\"})"
   ]
  },
  {
   "cell_type": "markdown",
   "metadata": {},
   "source": [
    "## Purchasing Analysis (Age)"
   ]
  },
  {
   "cell_type": "markdown",
   "metadata": {},
   "source": [
    "* Bin the purchase_data data frame by age\n",
    "\n",
    "\n",
    "* Run basic calculations to obtain purchase count, avg. purchase price, avg. purchase total per person etc. in the table below\n",
    "\n",
    "\n",
    "* Create a summary data frame to hold the results\n",
    "\n",
    "\n",
    "* Optional: give the displayed data cleaner formatting\n",
    "\n",
    "\n",
    "* Display the summary data frame"
   ]
  },
  {
   "cell_type": "code",
   "execution_count": 43,
   "metadata": {},
   "outputs": [
    {
     "data": {
      "text/html": [
       "<style  type=\"text/css\" >\n",
       "</style><table id=\"T_6ced95fa_ee64_11eb_a367_94085366260a\" ><thead>    <tr>        <th class=\"blank level0\" ></th>        <th class=\"col_heading level0 col0\" >Purchase Count</th>        <th class=\"col_heading level0 col1\" >Average Purchase Price</th>        <th class=\"col_heading level0 col2\" >Total Purchase Value</th>        <th class=\"col_heading level0 col3\" >Avg Total Purchase per Person</th>    </tr></thead><tbody>\n",
       "                <tr>\n",
       "                        <th id=\"T_6ced95fa_ee64_11eb_a367_94085366260alevel0_row0\" class=\"row_heading level0 row0\" ><10</th>\n",
       "                        <td id=\"T_6ced95fa_ee64_11eb_a367_94085366260arow0_col0\" class=\"data row0 col0\" >23</td>\n",
       "                        <td id=\"T_6ced95fa_ee64_11eb_a367_94085366260arow0_col1\" class=\"data row0 col1\" >$3.35</td>\n",
       "                        <td id=\"T_6ced95fa_ee64_11eb_a367_94085366260arow0_col2\" class=\"data row0 col2\" >$77.13</td>\n",
       "                        <td id=\"T_6ced95fa_ee64_11eb_a367_94085366260arow0_col3\" class=\"data row0 col3\" >$4.54</td>\n",
       "            </tr>\n",
       "            <tr>\n",
       "                        <th id=\"T_6ced95fa_ee64_11eb_a367_94085366260alevel0_row1\" class=\"row_heading level0 row1\" >10-14</th>\n",
       "                        <td id=\"T_6ced95fa_ee64_11eb_a367_94085366260arow1_col0\" class=\"data row1 col0\" >26</td>\n",
       "                        <td id=\"T_6ced95fa_ee64_11eb_a367_94085366260arow1_col1\" class=\"data row1 col1\" >$2.92</td>\n",
       "                        <td id=\"T_6ced95fa_ee64_11eb_a367_94085366260arow1_col2\" class=\"data row1 col2\" >$75.87</td>\n",
       "                        <td id=\"T_6ced95fa_ee64_11eb_a367_94085366260arow1_col3\" class=\"data row1 col3\" >$3.79</td>\n",
       "            </tr>\n",
       "            <tr>\n",
       "                        <th id=\"T_6ced95fa_ee64_11eb_a367_94085366260alevel0_row2\" class=\"row_heading level0 row2\" >15-19</th>\n",
       "                        <td id=\"T_6ced95fa_ee64_11eb_a367_94085366260arow2_col0\" class=\"data row2 col0\" >115</td>\n",
       "                        <td id=\"T_6ced95fa_ee64_11eb_a367_94085366260arow2_col1\" class=\"data row2 col1\" >$3.04</td>\n",
       "                        <td id=\"T_6ced95fa_ee64_11eb_a367_94085366260arow2_col2\" class=\"data row2 col2\" >$349.82</td>\n",
       "                        <td id=\"T_6ced95fa_ee64_11eb_a367_94085366260arow2_col3\" class=\"data row2 col3\" >$3.80</td>\n",
       "            </tr>\n",
       "            <tr>\n",
       "                        <th id=\"T_6ced95fa_ee64_11eb_a367_94085366260alevel0_row3\" class=\"row_heading level0 row3\" >20-24</th>\n",
       "                        <td id=\"T_6ced95fa_ee64_11eb_a367_94085366260arow3_col0\" class=\"data row3 col0\" >321</td>\n",
       "                        <td id=\"T_6ced95fa_ee64_11eb_a367_94085366260arow3_col1\" class=\"data row3 col1\" >$3.03</td>\n",
       "                        <td id=\"T_6ced95fa_ee64_11eb_a367_94085366260arow3_col2\" class=\"data row3 col2\" >$973.82</td>\n",
       "                        <td id=\"T_6ced95fa_ee64_11eb_a367_94085366260arow3_col3\" class=\"data row3 col3\" >$4.29</td>\n",
       "            </tr>\n",
       "            <tr>\n",
       "                        <th id=\"T_6ced95fa_ee64_11eb_a367_94085366260alevel0_row4\" class=\"row_heading level0 row4\" >25-29</th>\n",
       "                        <td id=\"T_6ced95fa_ee64_11eb_a367_94085366260arow4_col0\" class=\"data row4 col0\" >155</td>\n",
       "                        <td id=\"T_6ced95fa_ee64_11eb_a367_94085366260arow4_col1\" class=\"data row4 col1\" >$3.02</td>\n",
       "                        <td id=\"T_6ced95fa_ee64_11eb_a367_94085366260arow4_col2\" class=\"data row4 col2\" >$467.99</td>\n",
       "                        <td id=\"T_6ced95fa_ee64_11eb_a367_94085366260arow4_col3\" class=\"data row4 col3\" >$4.07</td>\n",
       "            </tr>\n",
       "            <tr>\n",
       "                        <th id=\"T_6ced95fa_ee64_11eb_a367_94085366260alevel0_row5\" class=\"row_heading level0 row5\" >30-34</th>\n",
       "                        <td id=\"T_6ced95fa_ee64_11eb_a367_94085366260arow5_col0\" class=\"data row5 col0\" >77</td>\n",
       "                        <td id=\"T_6ced95fa_ee64_11eb_a367_94085366260arow5_col1\" class=\"data row5 col1\" >$2.95</td>\n",
       "                        <td id=\"T_6ced95fa_ee64_11eb_a367_94085366260arow5_col2\" class=\"data row5 col2\" >$227.10</td>\n",
       "                        <td id=\"T_6ced95fa_ee64_11eb_a367_94085366260arow5_col3\" class=\"data row5 col3\" >$4.13</td>\n",
       "            </tr>\n",
       "            <tr>\n",
       "                        <th id=\"T_6ced95fa_ee64_11eb_a367_94085366260alevel0_row6\" class=\"row_heading level0 row6\" >35-39</th>\n",
       "                        <td id=\"T_6ced95fa_ee64_11eb_a367_94085366260arow6_col0\" class=\"data row6 col0\" >50</td>\n",
       "                        <td id=\"T_6ced95fa_ee64_11eb_a367_94085366260arow6_col1\" class=\"data row6 col1\" >$3.40</td>\n",
       "                        <td id=\"T_6ced95fa_ee64_11eb_a367_94085366260arow6_col2\" class=\"data row6 col2\" >$169.80</td>\n",
       "                        <td id=\"T_6ced95fa_ee64_11eb_a367_94085366260arow6_col3\" class=\"data row6 col3\" >$4.47</td>\n",
       "            </tr>\n",
       "            <tr>\n",
       "                        <th id=\"T_6ced95fa_ee64_11eb_a367_94085366260alevel0_row7\" class=\"row_heading level0 row7\" >40+</th>\n",
       "                        <td id=\"T_6ced95fa_ee64_11eb_a367_94085366260arow7_col0\" class=\"data row7 col0\" >13</td>\n",
       "                        <td id=\"T_6ced95fa_ee64_11eb_a367_94085366260arow7_col1\" class=\"data row7 col1\" >$2.94</td>\n",
       "                        <td id=\"T_6ced95fa_ee64_11eb_a367_94085366260arow7_col2\" class=\"data row7 col2\" >$38.24</td>\n",
       "                        <td id=\"T_6ced95fa_ee64_11eb_a367_94085366260arow7_col3\" class=\"data row7 col3\" >$3.19</td>\n",
       "            </tr>\n",
       "    </tbody></table>"
      ],
      "text/plain": [
       "<pandas.io.formats.style.Styler at 0x24152fd12e8>"
      ]
     },
     "execution_count": 43,
     "metadata": {},
     "output_type": "execute_result"
    }
   ],
   "source": [
    "#Run Calculations\n",
    "purchase_count = age_group_df[\"Purchase ID\"].count()\n",
    "avg_price_age = age_group_df[\"Price\"].mean()\n",
    "avg_total_age = age_group_df[\"Price\"].sum()\n",
    "avg_per_age = avg_total_age / total_count_age\n",
    "\n",
    "#Set DataFrame\n",
    "purchase_analysis = pd.DataFrame({\n",
    "                                  \"Purchase Count\": purchase_count, \n",
    "                                  \"Average Purchase Price\": avg_price_age, \n",
    "                                  \"Total Purchase Value\": avg_total_age,\n",
    "                                  \"Avg Total Purchase per Person\": avg_per_age\n",
    "                                })\n",
    "purchase_analysis\n",
    "\n",
    "#Set Format\n",
    "purchase_analysis.style.format({\"Average Purchase Price\":\"${:,.2f}\",\n",
    "                                  \"Total Purchase Value\":\"${:,.2f}\",\n",
    "                                  \"Avg Total Purchase per Person\":\"${:,.2f}\"\n",
    "                                })"
   ]
  },
  {
   "cell_type": "markdown",
   "metadata": {},
   "source": [
    "## Top Spenders"
   ]
  },
  {
   "cell_type": "markdown",
   "metadata": {},
   "source": [
    "* Run basic calculations to obtain the results in the table below\n",
    "\n",
    "\n",
    "* Create a summary data frame to hold the results\n",
    "\n",
    "\n",
    "* Sort the total purchase value column in descending order\n",
    "\n",
    "\n",
    "* Optional: give the displayed data cleaner formatting\n",
    "\n",
    "\n",
    "* Display a preview of the summary data frame\n",
    "\n"
   ]
  },
  {
   "cell_type": "code",
   "execution_count": 44,
   "metadata": {},
   "outputs": [
    {
     "data": {
      "text/html": [
       "<style  type=\"text/css\" >\n",
       "</style><table id=\"T_6dc0ea52_ee64_11eb_ba27_94085366260a\" ><thead>    <tr>        <th class=\"blank level0\" ></th>        <th class=\"col_heading level0 col0\" >Purchase Count</th>        <th class=\"col_heading level0 col1\" >Average Purchase Price</th>        <th class=\"col_heading level0 col2\" >Total Purchase Value</th>    </tr>    <tr>        <th class=\"index_name level0\" >SN</th>        <th class=\"blank\" ></th>        <th class=\"blank\" ></th>        <th class=\"blank\" ></th>    </tr></thead><tbody>\n",
       "                <tr>\n",
       "                        <th id=\"T_6dc0ea52_ee64_11eb_ba27_94085366260alevel0_row0\" class=\"row_heading level0 row0\" >Lisosia93</th>\n",
       "                        <td id=\"T_6dc0ea52_ee64_11eb_ba27_94085366260arow0_col0\" class=\"data row0 col0\" >5</td>\n",
       "                        <td id=\"T_6dc0ea52_ee64_11eb_ba27_94085366260arow0_col1\" class=\"data row0 col1\" >$3.79</td>\n",
       "                        <td id=\"T_6dc0ea52_ee64_11eb_ba27_94085366260arow0_col2\" class=\"data row0 col2\" >$18.96</td>\n",
       "            </tr>\n",
       "            <tr>\n",
       "                        <th id=\"T_6dc0ea52_ee64_11eb_ba27_94085366260alevel0_row1\" class=\"row_heading level0 row1\" >Idastidru52</th>\n",
       "                        <td id=\"T_6dc0ea52_ee64_11eb_ba27_94085366260arow1_col0\" class=\"data row1 col0\" >4</td>\n",
       "                        <td id=\"T_6dc0ea52_ee64_11eb_ba27_94085366260arow1_col1\" class=\"data row1 col1\" >$3.86</td>\n",
       "                        <td id=\"T_6dc0ea52_ee64_11eb_ba27_94085366260arow1_col2\" class=\"data row1 col2\" >$15.45</td>\n",
       "            </tr>\n",
       "            <tr>\n",
       "                        <th id=\"T_6dc0ea52_ee64_11eb_ba27_94085366260alevel0_row2\" class=\"row_heading level0 row2\" >Chamjask73</th>\n",
       "                        <td id=\"T_6dc0ea52_ee64_11eb_ba27_94085366260arow2_col0\" class=\"data row2 col0\" >3</td>\n",
       "                        <td id=\"T_6dc0ea52_ee64_11eb_ba27_94085366260arow2_col1\" class=\"data row2 col1\" >$4.61</td>\n",
       "                        <td id=\"T_6dc0ea52_ee64_11eb_ba27_94085366260arow2_col2\" class=\"data row2 col2\" >$13.83</td>\n",
       "            </tr>\n",
       "            <tr>\n",
       "                        <th id=\"T_6dc0ea52_ee64_11eb_ba27_94085366260alevel0_row3\" class=\"row_heading level0 row3\" >Iral74</th>\n",
       "                        <td id=\"T_6dc0ea52_ee64_11eb_ba27_94085366260arow3_col0\" class=\"data row3 col0\" >4</td>\n",
       "                        <td id=\"T_6dc0ea52_ee64_11eb_ba27_94085366260arow3_col1\" class=\"data row3 col1\" >$3.40</td>\n",
       "                        <td id=\"T_6dc0ea52_ee64_11eb_ba27_94085366260arow3_col2\" class=\"data row3 col2\" >$13.62</td>\n",
       "            </tr>\n",
       "            <tr>\n",
       "                        <th id=\"T_6dc0ea52_ee64_11eb_ba27_94085366260alevel0_row4\" class=\"row_heading level0 row4\" >Iskadarya95</th>\n",
       "                        <td id=\"T_6dc0ea52_ee64_11eb_ba27_94085366260arow4_col0\" class=\"data row4 col0\" >3</td>\n",
       "                        <td id=\"T_6dc0ea52_ee64_11eb_ba27_94085366260arow4_col1\" class=\"data row4 col1\" >$4.37</td>\n",
       "                        <td id=\"T_6dc0ea52_ee64_11eb_ba27_94085366260arow4_col2\" class=\"data row4 col2\" >$13.10</td>\n",
       "            </tr>\n",
       "            <tr>\n",
       "                        <th id=\"T_6dc0ea52_ee64_11eb_ba27_94085366260alevel0_row5\" class=\"row_heading level0 row5\" >Ilarin91</th>\n",
       "                        <td id=\"T_6dc0ea52_ee64_11eb_ba27_94085366260arow5_col0\" class=\"data row5 col0\" >3</td>\n",
       "                        <td id=\"T_6dc0ea52_ee64_11eb_ba27_94085366260arow5_col1\" class=\"data row5 col1\" >$4.23</td>\n",
       "                        <td id=\"T_6dc0ea52_ee64_11eb_ba27_94085366260arow5_col2\" class=\"data row5 col2\" >$12.70</td>\n",
       "            </tr>\n",
       "            <tr>\n",
       "                        <th id=\"T_6dc0ea52_ee64_11eb_ba27_94085366260alevel0_row6\" class=\"row_heading level0 row6\" >Ialallo29</th>\n",
       "                        <td id=\"T_6dc0ea52_ee64_11eb_ba27_94085366260arow6_col0\" class=\"data row6 col0\" >3</td>\n",
       "                        <td id=\"T_6dc0ea52_ee64_11eb_ba27_94085366260arow6_col1\" class=\"data row6 col1\" >$3.95</td>\n",
       "                        <td id=\"T_6dc0ea52_ee64_11eb_ba27_94085366260arow6_col2\" class=\"data row6 col2\" >$11.84</td>\n",
       "            </tr>\n",
       "            <tr>\n",
       "                        <th id=\"T_6dc0ea52_ee64_11eb_ba27_94085366260alevel0_row7\" class=\"row_heading level0 row7\" >Tyidaim51</th>\n",
       "                        <td id=\"T_6dc0ea52_ee64_11eb_ba27_94085366260arow7_col0\" class=\"data row7 col0\" >3</td>\n",
       "                        <td id=\"T_6dc0ea52_ee64_11eb_ba27_94085366260arow7_col1\" class=\"data row7 col1\" >$3.94</td>\n",
       "                        <td id=\"T_6dc0ea52_ee64_11eb_ba27_94085366260arow7_col2\" class=\"data row7 col2\" >$11.83</td>\n",
       "            </tr>\n",
       "            <tr>\n",
       "                        <th id=\"T_6dc0ea52_ee64_11eb_ba27_94085366260alevel0_row8\" class=\"row_heading level0 row8\" >Lassilsala30</th>\n",
       "                        <td id=\"T_6dc0ea52_ee64_11eb_ba27_94085366260arow8_col0\" class=\"data row8 col0\" >3</td>\n",
       "                        <td id=\"T_6dc0ea52_ee64_11eb_ba27_94085366260arow8_col1\" class=\"data row8 col1\" >$3.84</td>\n",
       "                        <td id=\"T_6dc0ea52_ee64_11eb_ba27_94085366260arow8_col2\" class=\"data row8 col2\" >$11.51</td>\n",
       "            </tr>\n",
       "            <tr>\n",
       "                        <th id=\"T_6dc0ea52_ee64_11eb_ba27_94085366260alevel0_row9\" class=\"row_heading level0 row9\" >Chadolyla44</th>\n",
       "                        <td id=\"T_6dc0ea52_ee64_11eb_ba27_94085366260arow9_col0\" class=\"data row9 col0\" >3</td>\n",
       "                        <td id=\"T_6dc0ea52_ee64_11eb_ba27_94085366260arow9_col1\" class=\"data row9 col1\" >$3.82</td>\n",
       "                        <td id=\"T_6dc0ea52_ee64_11eb_ba27_94085366260arow9_col2\" class=\"data row9 col2\" >$11.46</td>\n",
       "            </tr>\n",
       "    </tbody></table>"
      ],
      "text/plain": [
       "<pandas.io.formats.style.Styler at 0x24152ee1780>"
      ]
     },
     "execution_count": 44,
     "metadata": {},
     "output_type": "execute_result"
    }
   ],
   "source": [
    "#Set Groupby\n",
    "spender_stats = purchase_data_df.groupby(\"SN\")\n",
    "\n",
    "#Run Calculations\n",
    "purchase_count_spender = spender_stats[\"Purchase ID\"].count()\n",
    "avg_purchase_price_spender = spender_stats[\"Price\"].mean()\n",
    "purchase_total_spender = spender_stats[\"Price\"].sum()\n",
    "\n",
    "#Set DataFrame\n",
    "top_spenders = pd.DataFrame({\"Purchase Count\": purchase_count_spender,\n",
    "                             \"Average Purchase Price\": avg_purchase_price_spender,\n",
    "                             \"Total Purchase Value\":purchase_total_spender})\n",
    "\n",
    "#Set Limits and Descending Order\n",
    "formatted_spenders = top_spenders.sort_values([\"Total Purchase Value\"], ascending=False).head(10)\n",
    "\n",
    "#Set Format\n",
    "formatted_spenders.style.format({\"Average Purchase Total\":\"${:,.2f}\",\n",
    "                                 \"Average Purchase Price\":\"${:,.2f}\", \n",
    "                                 \"Total Purchase Value\":\"${:,.2f}\"})"
   ]
  },
  {
   "cell_type": "markdown",
   "metadata": {},
   "source": [
    "## Most Popular Items"
   ]
  },
  {
   "cell_type": "markdown",
   "metadata": {},
   "source": [
    "* Retrieve the Item ID, Item Name, and Item Price columns\n",
    "\n",
    "\n",
    "* Group by Item ID and Item Name. Perform calculations to obtain purchase count, average item price, and total purchase value\n",
    "\n",
    "\n",
    "* Create a summary data frame to hold the results\n",
    "\n",
    "\n",
    "* Sort the purchase count column in descending order\n",
    "\n",
    "\n",
    "* Optional: give the displayed data cleaner formatting\n",
    "\n",
    "\n",
    "* Display a preview of the summary data frame\n",
    "\n"
   ]
  },
  {
   "cell_type": "code",
   "execution_count": 45,
   "metadata": {},
   "outputs": [
    {
     "data": {
      "text/html": [
       "<style  type=\"text/css\" >\n",
       "</style><table id=\"T_6e7eb290_ee64_11eb_a6b5_94085366260a\" ><thead>    <tr>        <th class=\"blank\" ></th>        <th class=\"blank level0\" ></th>        <th class=\"col_heading level0 col0\" >Purchase Count</th>        <th class=\"col_heading level0 col1\" >Item Price</th>        <th class=\"col_heading level0 col2\" >Total Purchase Value</th>    </tr>    <tr>        <th class=\"index_name level0\" >Item ID</th>        <th class=\"index_name level1\" >Item Name</th>        <th class=\"blank\" ></th>        <th class=\"blank\" ></th>        <th class=\"blank\" ></th>    </tr></thead><tbody>\n",
       "                <tr>\n",
       "                        <th id=\"T_6e7eb290_ee64_11eb_a6b5_94085366260alevel0_row0\" class=\"row_heading level0 row0\" >92</th>\n",
       "                        <th id=\"T_6e7eb290_ee64_11eb_a6b5_94085366260alevel1_row0\" class=\"row_heading level1 row0\" >Final Critic</th>\n",
       "                        <td id=\"T_6e7eb290_ee64_11eb_a6b5_94085366260arow0_col0\" class=\"data row0 col0\" >13</td>\n",
       "                        <td id=\"T_6e7eb290_ee64_11eb_a6b5_94085366260arow0_col1\" class=\"data row0 col1\" >$4.61</td>\n",
       "                        <td id=\"T_6e7eb290_ee64_11eb_a6b5_94085366260arow0_col2\" class=\"data row0 col2\" >$59.99</td>\n",
       "            </tr>\n",
       "            <tr>\n",
       "                        <th id=\"T_6e7eb290_ee64_11eb_a6b5_94085366260alevel0_row1\" class=\"row_heading level0 row1\" >178</th>\n",
       "                        <th id=\"T_6e7eb290_ee64_11eb_a6b5_94085366260alevel1_row1\" class=\"row_heading level1 row1\" >Oathbreaker, Last Hope of the Breaking Storm</th>\n",
       "                        <td id=\"T_6e7eb290_ee64_11eb_a6b5_94085366260arow1_col0\" class=\"data row1 col0\" >12</td>\n",
       "                        <td id=\"T_6e7eb290_ee64_11eb_a6b5_94085366260arow1_col1\" class=\"data row1 col1\" >$4.23</td>\n",
       "                        <td id=\"T_6e7eb290_ee64_11eb_a6b5_94085366260arow1_col2\" class=\"data row1 col2\" >$50.76</td>\n",
       "            </tr>\n",
       "            <tr>\n",
       "                        <th id=\"T_6e7eb290_ee64_11eb_a6b5_94085366260alevel0_row2\" class=\"row_heading level0 row2\" >145</th>\n",
       "                        <th id=\"T_6e7eb290_ee64_11eb_a6b5_94085366260alevel1_row2\" class=\"row_heading level1 row2\" >Fiery Glass Crusader</th>\n",
       "                        <td id=\"T_6e7eb290_ee64_11eb_a6b5_94085366260arow2_col0\" class=\"data row2 col0\" >9</td>\n",
       "                        <td id=\"T_6e7eb290_ee64_11eb_a6b5_94085366260arow2_col1\" class=\"data row2 col1\" >$4.58</td>\n",
       "                        <td id=\"T_6e7eb290_ee64_11eb_a6b5_94085366260arow2_col2\" class=\"data row2 col2\" >$41.22</td>\n",
       "            </tr>\n",
       "            <tr>\n",
       "                        <th id=\"T_6e7eb290_ee64_11eb_a6b5_94085366260alevel0_row3\" class=\"row_heading level0 row3\" >132</th>\n",
       "                        <th id=\"T_6e7eb290_ee64_11eb_a6b5_94085366260alevel1_row3\" class=\"row_heading level1 row3\" >Persuasion</th>\n",
       "                        <td id=\"T_6e7eb290_ee64_11eb_a6b5_94085366260arow3_col0\" class=\"data row3 col0\" >9</td>\n",
       "                        <td id=\"T_6e7eb290_ee64_11eb_a6b5_94085366260arow3_col1\" class=\"data row3 col1\" >$3.22</td>\n",
       "                        <td id=\"T_6e7eb290_ee64_11eb_a6b5_94085366260arow3_col2\" class=\"data row3 col2\" >$28.99</td>\n",
       "            </tr>\n",
       "            <tr>\n",
       "                        <th id=\"T_6e7eb290_ee64_11eb_a6b5_94085366260alevel0_row4\" class=\"row_heading level0 row4\" >108</th>\n",
       "                        <th id=\"T_6e7eb290_ee64_11eb_a6b5_94085366260alevel1_row4\" class=\"row_heading level1 row4\" >Extraction, Quickblade Of Trembling Hands</th>\n",
       "                        <td id=\"T_6e7eb290_ee64_11eb_a6b5_94085366260arow4_col0\" class=\"data row4 col0\" >9</td>\n",
       "                        <td id=\"T_6e7eb290_ee64_11eb_a6b5_94085366260arow4_col1\" class=\"data row4 col1\" >$3.53</td>\n",
       "                        <td id=\"T_6e7eb290_ee64_11eb_a6b5_94085366260arow4_col2\" class=\"data row4 col2\" >$31.77</td>\n",
       "            </tr>\n",
       "            <tr>\n",
       "                        <th id=\"T_6e7eb290_ee64_11eb_a6b5_94085366260alevel0_row5\" class=\"row_heading level0 row5\" >82</th>\n",
       "                        <th id=\"T_6e7eb290_ee64_11eb_a6b5_94085366260alevel1_row5\" class=\"row_heading level1 row5\" >Nirvana</th>\n",
       "                        <td id=\"T_6e7eb290_ee64_11eb_a6b5_94085366260arow5_col0\" class=\"data row5 col0\" >9</td>\n",
       "                        <td id=\"T_6e7eb290_ee64_11eb_a6b5_94085366260arow5_col1\" class=\"data row5 col1\" >$4.90</td>\n",
       "                        <td id=\"T_6e7eb290_ee64_11eb_a6b5_94085366260arow5_col2\" class=\"data row5 col2\" >$44.10</td>\n",
       "            </tr>\n",
       "            <tr>\n",
       "                        <th id=\"T_6e7eb290_ee64_11eb_a6b5_94085366260alevel0_row6\" class=\"row_heading level0 row6\" >75</th>\n",
       "                        <th id=\"T_6e7eb290_ee64_11eb_a6b5_94085366260alevel1_row6\" class=\"row_heading level1 row6\" >Brutality Ivory Warmace</th>\n",
       "                        <td id=\"T_6e7eb290_ee64_11eb_a6b5_94085366260arow6_col0\" class=\"data row6 col0\" >8</td>\n",
       "                        <td id=\"T_6e7eb290_ee64_11eb_a6b5_94085366260arow6_col1\" class=\"data row6 col1\" >$2.42</td>\n",
       "                        <td id=\"T_6e7eb290_ee64_11eb_a6b5_94085366260arow6_col2\" class=\"data row6 col2\" >$19.36</td>\n",
       "            </tr>\n",
       "            <tr>\n",
       "                        <th id=\"T_6e7eb290_ee64_11eb_a6b5_94085366260alevel0_row7\" class=\"row_heading level0 row7\" >103</th>\n",
       "                        <th id=\"T_6e7eb290_ee64_11eb_a6b5_94085366260alevel1_row7\" class=\"row_heading level1 row7\" >Singed Scalpel</th>\n",
       "                        <td id=\"T_6e7eb290_ee64_11eb_a6b5_94085366260arow7_col0\" class=\"data row7 col0\" >8</td>\n",
       "                        <td id=\"T_6e7eb290_ee64_11eb_a6b5_94085366260arow7_col1\" class=\"data row7 col1\" >$4.35</td>\n",
       "                        <td id=\"T_6e7eb290_ee64_11eb_a6b5_94085366260arow7_col2\" class=\"data row7 col2\" >$34.80</td>\n",
       "            </tr>\n",
       "            <tr>\n",
       "                        <th id=\"T_6e7eb290_ee64_11eb_a6b5_94085366260alevel0_row8\" class=\"row_heading level0 row8\" >34</th>\n",
       "                        <th id=\"T_6e7eb290_ee64_11eb_a6b5_94085366260alevel1_row8\" class=\"row_heading level1 row8\" >Retribution Axe</th>\n",
       "                        <td id=\"T_6e7eb290_ee64_11eb_a6b5_94085366260arow8_col0\" class=\"data row8 col0\" >8</td>\n",
       "                        <td id=\"T_6e7eb290_ee64_11eb_a6b5_94085366260arow8_col1\" class=\"data row8 col1\" >$2.22</td>\n",
       "                        <td id=\"T_6e7eb290_ee64_11eb_a6b5_94085366260arow8_col2\" class=\"data row8 col2\" >$17.76</td>\n",
       "            </tr>\n",
       "            <tr>\n",
       "                        <th id=\"T_6e7eb290_ee64_11eb_a6b5_94085366260alevel0_row9\" class=\"row_heading level0 row9\" >37</th>\n",
       "                        <th id=\"T_6e7eb290_ee64_11eb_a6b5_94085366260alevel1_row9\" class=\"row_heading level1 row9\" >Shadow Strike, Glory of Ending Hope</th>\n",
       "                        <td id=\"T_6e7eb290_ee64_11eb_a6b5_94085366260arow9_col0\" class=\"data row9 col0\" >8</td>\n",
       "                        <td id=\"T_6e7eb290_ee64_11eb_a6b5_94085366260arow9_col1\" class=\"data row9 col1\" >$3.16</td>\n",
       "                        <td id=\"T_6e7eb290_ee64_11eb_a6b5_94085366260arow9_col2\" class=\"data row9 col2\" >$25.28</td>\n",
       "            </tr>\n",
       "    </tbody></table>"
      ],
      "text/plain": [
       "<pandas.io.formats.style.Styler at 0x24152ee1630>"
      ]
     },
     "execution_count": 45,
     "metadata": {},
     "output_type": "execute_result"
    }
   ],
   "source": [
    "#Set Groupby and Variable\n",
    "items = purchase_data_df[[\"Item ID\", \"Item Name\", \"Price\"]]\n",
    "item_stats = items.groupby([\"Item ID\",\"Item Name\"])\n",
    "\n",
    "#Run Calculations\n",
    "purchase_count_item = item_stats[\"Price\"].count()\n",
    "purchase_value = (item_stats[\"Price\"].sum()) \n",
    "item_price = purchase_value/purchase_count_item\n",
    "\n",
    "#Set DataFrame\n",
    "most_popular_items = pd.DataFrame({\"Purchase Count\": purchase_count_item, \n",
    "                                   \"Item Price\": item_price,\n",
    "                                   \"Total Purchase Value\":purchase_value})\n",
    "\n",
    "#Set Limits and Descending Order\n",
    "popular_formatted = most_popular_items.sort_values([\"Purchase Count\"], ascending=False).head(10)\n",
    "\n",
    "#Set Format\n",
    "popular_formatted.style.format({\"Item Price\":\"${:,.2f}\",\n",
    "                                \"Total Purchase Value\":\"${:,.2f}\"})"
   ]
  },
  {
   "cell_type": "markdown",
   "metadata": {},
   "source": [
    "## Most Profitable Items"
   ]
  },
  {
   "cell_type": "markdown",
   "metadata": {},
   "source": [
    "* Sort the above table by total purchase value in descending order\n",
    "\n",
    "\n",
    "* Optional: give the displayed data cleaner formatting\n",
    "\n",
    "\n",
    "* Display a preview of the data frame\n",
    "\n"
   ]
  },
  {
   "cell_type": "code",
   "execution_count": 46,
   "metadata": {
    "scrolled": true
   },
   "outputs": [
    {
     "data": {
      "text/html": [
       "<style  type=\"text/css\" >\n",
       "</style><table id=\"T_6f2710c6_ee64_11eb_9751_94085366260a\" ><thead>    <tr>        <th class=\"blank\" ></th>        <th class=\"blank level0\" ></th>        <th class=\"col_heading level0 col0\" >Purchase Count</th>        <th class=\"col_heading level0 col1\" >Item Price</th>        <th class=\"col_heading level0 col2\" >Total Purchase Value</th>    </tr>    <tr>        <th class=\"index_name level0\" >Item ID</th>        <th class=\"index_name level1\" >Item Name</th>        <th class=\"blank\" ></th>        <th class=\"blank\" ></th>        <th class=\"blank\" ></th>    </tr></thead><tbody>\n",
       "                <tr>\n",
       "                        <th id=\"T_6f2710c6_ee64_11eb_9751_94085366260alevel0_row0\" class=\"row_heading level0 row0\" >92</th>\n",
       "                        <th id=\"T_6f2710c6_ee64_11eb_9751_94085366260alevel1_row0\" class=\"row_heading level1 row0\" >Final Critic</th>\n",
       "                        <td id=\"T_6f2710c6_ee64_11eb_9751_94085366260arow0_col0\" class=\"data row0 col0\" >13</td>\n",
       "                        <td id=\"T_6f2710c6_ee64_11eb_9751_94085366260arow0_col1\" class=\"data row0 col1\" >$4.61</td>\n",
       "                        <td id=\"T_6f2710c6_ee64_11eb_9751_94085366260arow0_col2\" class=\"data row0 col2\" >$59.99</td>\n",
       "            </tr>\n",
       "            <tr>\n",
       "                        <th id=\"T_6f2710c6_ee64_11eb_9751_94085366260alevel0_row1\" class=\"row_heading level0 row1\" >178</th>\n",
       "                        <th id=\"T_6f2710c6_ee64_11eb_9751_94085366260alevel1_row1\" class=\"row_heading level1 row1\" >Oathbreaker, Last Hope of the Breaking Storm</th>\n",
       "                        <td id=\"T_6f2710c6_ee64_11eb_9751_94085366260arow1_col0\" class=\"data row1 col0\" >12</td>\n",
       "                        <td id=\"T_6f2710c6_ee64_11eb_9751_94085366260arow1_col1\" class=\"data row1 col1\" >$4.23</td>\n",
       "                        <td id=\"T_6f2710c6_ee64_11eb_9751_94085366260arow1_col2\" class=\"data row1 col2\" >$50.76</td>\n",
       "            </tr>\n",
       "            <tr>\n",
       "                        <th id=\"T_6f2710c6_ee64_11eb_9751_94085366260alevel0_row2\" class=\"row_heading level0 row2\" >145</th>\n",
       "                        <th id=\"T_6f2710c6_ee64_11eb_9751_94085366260alevel1_row2\" class=\"row_heading level1 row2\" >Fiery Glass Crusader</th>\n",
       "                        <td id=\"T_6f2710c6_ee64_11eb_9751_94085366260arow2_col0\" class=\"data row2 col0\" >9</td>\n",
       "                        <td id=\"T_6f2710c6_ee64_11eb_9751_94085366260arow2_col1\" class=\"data row2 col1\" >$4.58</td>\n",
       "                        <td id=\"T_6f2710c6_ee64_11eb_9751_94085366260arow2_col2\" class=\"data row2 col2\" >$41.22</td>\n",
       "            </tr>\n",
       "            <tr>\n",
       "                        <th id=\"T_6f2710c6_ee64_11eb_9751_94085366260alevel0_row3\" class=\"row_heading level0 row3\" >132</th>\n",
       "                        <th id=\"T_6f2710c6_ee64_11eb_9751_94085366260alevel1_row3\" class=\"row_heading level1 row3\" >Persuasion</th>\n",
       "                        <td id=\"T_6f2710c6_ee64_11eb_9751_94085366260arow3_col0\" class=\"data row3 col0\" >9</td>\n",
       "                        <td id=\"T_6f2710c6_ee64_11eb_9751_94085366260arow3_col1\" class=\"data row3 col1\" >$3.22</td>\n",
       "                        <td id=\"T_6f2710c6_ee64_11eb_9751_94085366260arow3_col2\" class=\"data row3 col2\" >$28.99</td>\n",
       "            </tr>\n",
       "            <tr>\n",
       "                        <th id=\"T_6f2710c6_ee64_11eb_9751_94085366260alevel0_row4\" class=\"row_heading level0 row4\" >108</th>\n",
       "                        <th id=\"T_6f2710c6_ee64_11eb_9751_94085366260alevel1_row4\" class=\"row_heading level1 row4\" >Extraction, Quickblade Of Trembling Hands</th>\n",
       "                        <td id=\"T_6f2710c6_ee64_11eb_9751_94085366260arow4_col0\" class=\"data row4 col0\" >9</td>\n",
       "                        <td id=\"T_6f2710c6_ee64_11eb_9751_94085366260arow4_col1\" class=\"data row4 col1\" >$3.53</td>\n",
       "                        <td id=\"T_6f2710c6_ee64_11eb_9751_94085366260arow4_col2\" class=\"data row4 col2\" >$31.77</td>\n",
       "            </tr>\n",
       "            <tr>\n",
       "                        <th id=\"T_6f2710c6_ee64_11eb_9751_94085366260alevel0_row5\" class=\"row_heading level0 row5\" >82</th>\n",
       "                        <th id=\"T_6f2710c6_ee64_11eb_9751_94085366260alevel1_row5\" class=\"row_heading level1 row5\" >Nirvana</th>\n",
       "                        <td id=\"T_6f2710c6_ee64_11eb_9751_94085366260arow5_col0\" class=\"data row5 col0\" >9</td>\n",
       "                        <td id=\"T_6f2710c6_ee64_11eb_9751_94085366260arow5_col1\" class=\"data row5 col1\" >$4.90</td>\n",
       "                        <td id=\"T_6f2710c6_ee64_11eb_9751_94085366260arow5_col2\" class=\"data row5 col2\" >$44.10</td>\n",
       "            </tr>\n",
       "            <tr>\n",
       "                        <th id=\"T_6f2710c6_ee64_11eb_9751_94085366260alevel0_row6\" class=\"row_heading level0 row6\" >75</th>\n",
       "                        <th id=\"T_6f2710c6_ee64_11eb_9751_94085366260alevel1_row6\" class=\"row_heading level1 row6\" >Brutality Ivory Warmace</th>\n",
       "                        <td id=\"T_6f2710c6_ee64_11eb_9751_94085366260arow6_col0\" class=\"data row6 col0\" >8</td>\n",
       "                        <td id=\"T_6f2710c6_ee64_11eb_9751_94085366260arow6_col1\" class=\"data row6 col1\" >$2.42</td>\n",
       "                        <td id=\"T_6f2710c6_ee64_11eb_9751_94085366260arow6_col2\" class=\"data row6 col2\" >$19.36</td>\n",
       "            </tr>\n",
       "            <tr>\n",
       "                        <th id=\"T_6f2710c6_ee64_11eb_9751_94085366260alevel0_row7\" class=\"row_heading level0 row7\" >103</th>\n",
       "                        <th id=\"T_6f2710c6_ee64_11eb_9751_94085366260alevel1_row7\" class=\"row_heading level1 row7\" >Singed Scalpel</th>\n",
       "                        <td id=\"T_6f2710c6_ee64_11eb_9751_94085366260arow7_col0\" class=\"data row7 col0\" >8</td>\n",
       "                        <td id=\"T_6f2710c6_ee64_11eb_9751_94085366260arow7_col1\" class=\"data row7 col1\" >$4.35</td>\n",
       "                        <td id=\"T_6f2710c6_ee64_11eb_9751_94085366260arow7_col2\" class=\"data row7 col2\" >$34.80</td>\n",
       "            </tr>\n",
       "            <tr>\n",
       "                        <th id=\"T_6f2710c6_ee64_11eb_9751_94085366260alevel0_row8\" class=\"row_heading level0 row8\" >34</th>\n",
       "                        <th id=\"T_6f2710c6_ee64_11eb_9751_94085366260alevel1_row8\" class=\"row_heading level1 row8\" >Retribution Axe</th>\n",
       "                        <td id=\"T_6f2710c6_ee64_11eb_9751_94085366260arow8_col0\" class=\"data row8 col0\" >8</td>\n",
       "                        <td id=\"T_6f2710c6_ee64_11eb_9751_94085366260arow8_col1\" class=\"data row8 col1\" >$2.22</td>\n",
       "                        <td id=\"T_6f2710c6_ee64_11eb_9751_94085366260arow8_col2\" class=\"data row8 col2\" >$17.76</td>\n",
       "            </tr>\n",
       "            <tr>\n",
       "                        <th id=\"T_6f2710c6_ee64_11eb_9751_94085366260alevel0_row9\" class=\"row_heading level0 row9\" >37</th>\n",
       "                        <th id=\"T_6f2710c6_ee64_11eb_9751_94085366260alevel1_row9\" class=\"row_heading level1 row9\" >Shadow Strike, Glory of Ending Hope</th>\n",
       "                        <td id=\"T_6f2710c6_ee64_11eb_9751_94085366260arow9_col0\" class=\"data row9 col0\" >8</td>\n",
       "                        <td id=\"T_6f2710c6_ee64_11eb_9751_94085366260arow9_col1\" class=\"data row9 col1\" >$3.16</td>\n",
       "                        <td id=\"T_6f2710c6_ee64_11eb_9751_94085366260arow9_col2\" class=\"data row9 col2\" >$25.28</td>\n",
       "            </tr>\n",
       "    </tbody></table>"
      ],
      "text/plain": [
       "<pandas.io.formats.style.Styler at 0x24152f5d630>"
      ]
     },
     "execution_count": 46,
     "metadata": {},
     "output_type": "execute_result"
    }
   ],
   "source": [
    "#Set DataFrame\n",
    "most_profitable_items = pd.DataFrame({\"Purchase Count\": purchase_count_item, \n",
    "                                   \"Item Price\": item_price,\n",
    "                                   \"Total Purchase Value\":purchase_value})\n",
    "\n",
    "#Set Limits and Descending Order\n",
    "profitable_formatted = most_profitable_items.sort_values([\"Total Purchase Value\"], ascending=False).head(10)\n",
    "\n",
    "#Set Format\n",
    "popular_formatted.style.format({\"Item Price\":\"${:,.2f}\",\n",
    "                                \"Total Purchase Value\":\"${:,.2f}\"})"
   ]
  }
 ],
 "metadata": {
  "anaconda-cloud": {},
  "kernel_info": {
   "name": "python3"
  },
  "kernelspec": {
   "display_name": "Python [conda env:PythonData] *",
   "language": "python",
   "name": "conda-env-PythonData-py"
  },
  "language_info": {
   "codemirror_mode": {
    "name": "ipython",
    "version": 3
   },
   "file_extension": ".py",
   "mimetype": "text/x-python",
   "name": "python",
   "nbconvert_exporter": "python",
   "pygments_lexer": "ipython3",
   "version": "3.6.10"
  },
  "latex_envs": {
   "LaTeX_envs_menu_present": true,
   "autoclose": false,
   "autocomplete": true,
   "bibliofile": "biblio.bib",
   "cite_by": "apalike",
   "current_citInitial": 1,
   "eqLabelWithNumbers": true,
   "eqNumInitial": 1,
   "hotkeys": {
    "equation": "Ctrl-E",
    "itemize": "Ctrl-I"
   },
   "labels_anchors": false,
   "latex_user_defs": false,
   "report_style_numbering": false,
   "user_envs_cfg": false
  },
  "nteract": {
   "version": "0.2.0"
  }
 },
 "nbformat": 4,
 "nbformat_minor": 2
}
